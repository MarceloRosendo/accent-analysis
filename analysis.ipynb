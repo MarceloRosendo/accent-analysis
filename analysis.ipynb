{
 "cells": [
  {
   "cell_type": "markdown",
   "source": [
    "# title\n",
    "\n",
    "list all video ids from youtube: https://github.com/yt-dlp/yt-dlp#general-options\n",
    "reference: https://towardsdatascience.com/machine-learning-nlp-text-classification-using-scikit-learn-python-and-nltk-c52b92a7c73a"
   ],
   "metadata": {
    "collapsed": false
   },
   "id": "b99acb8184162f26"
  },
  {
   "cell_type": "code",
   "execution_count": 1,
   "id": "initial_id",
   "metadata": {
    "collapsed": true,
    "ExecuteTime": {
     "end_time": "2023-12-10T10:32:39.081326405Z",
     "start_time": "2023-12-10T10:32:38.856383409Z"
    }
   },
   "outputs": [],
   "source": [
    "import numpy as np\n",
    "import pandas as pd\n",
    "from os import listdir\n",
    "from os.path import isfile, join"
   ]
  },
  {
   "cell_type": "code",
   "execution_count": 9,
   "outputs": [],
   "source": [
    "#path_accent = ['baiano', 'fluminense', 'mineiro']\n",
    "path_accent = ['baiano', 'fluminense']\n",
    "\n",
    "accent_list = []\n",
    "\n",
    "for index, path in enumerate(path_accent):\n",
    "    onlyfiles = [f for f in listdir(f'data/{path}') if isfile(join(f'data/{path}', f))]\n",
    "    \n",
    "    for file in onlyfiles:\n",
    "        transcription_df = pd.DataFrame(pd.read_json(f'data/{path}/{file}'))\n",
    "        transcription = ''.join(transcription_df['text'])\n",
    "        accent_list.append({\"transcription\":transcription, \"target\": path})"
   ],
   "metadata": {
    "collapsed": false,
    "ExecuteTime": {
     "end_time": "2023-12-10T10:40:54.604704144Z",
     "start_time": "2023-12-10T10:40:54.579809529Z"
    }
   },
   "id": "8631145cefe2d797"
  },
  {
   "cell_type": "code",
   "execution_count": 14,
   "outputs": [],
   "source": [
    "#text = ''.join(accent_list[0][0]['text'])\n",
    "#print(accent_list[0][0]['target'])\n",
    "accent_df = pd.json_normalize(accent_list)"
   ],
   "metadata": {
    "collapsed": false,
    "ExecuteTime": {
     "end_time": "2023-12-10T10:41:59.303927202Z",
     "start_time": "2023-12-10T10:41:59.291436129Z"
    }
   },
   "id": "e601396a0adda523"
  },
  {
   "cell_type": "code",
   "execution_count": 17,
   "outputs": [
    {
     "data": {
      "text/plain": "                                       transcription      target\n0  umherói j1Oi e aítá querendo gravar aqui foi s...      baiano\n1  eu sou uma exceção que confirma a regramuitos ...      baiano\n2  a outra menina baiana pensando que Deusestá to...      baiano\n3  ei ei nerd bem-vindos a mais um fofo decast aq...  fluminense\n4  salve salve pessoal depois de muitasemoções do...  fluminense\n5  [Música]o programa Hoje está empetim para cheg...     mineiro",
      "text/html": "<div>\n<style scoped>\n    .dataframe tbody tr th:only-of-type {\n        vertical-align: middle;\n    }\n\n    .dataframe tbody tr th {\n        vertical-align: top;\n    }\n\n    .dataframe thead th {\n        text-align: right;\n    }\n</style>\n<table border=\"1\" class=\"dataframe\">\n  <thead>\n    <tr style=\"text-align: right;\">\n      <th></th>\n      <th>transcription</th>\n      <th>target</th>\n    </tr>\n  </thead>\n  <tbody>\n    <tr>\n      <th>0</th>\n      <td>umherói j1Oi e aítá querendo gravar aqui foi s...</td>\n      <td>baiano</td>\n    </tr>\n    <tr>\n      <th>1</th>\n      <td>eu sou uma exceção que confirma a regramuitos ...</td>\n      <td>baiano</td>\n    </tr>\n    <tr>\n      <th>2</th>\n      <td>a outra menina baiana pensando que Deusestá to...</td>\n      <td>baiano</td>\n    </tr>\n    <tr>\n      <th>3</th>\n      <td>ei ei nerd bem-vindos a mais um fofo decast aq...</td>\n      <td>fluminense</td>\n    </tr>\n    <tr>\n      <th>4</th>\n      <td>salve salve pessoal depois de muitasemoções do...</td>\n      <td>fluminense</td>\n    </tr>\n    <tr>\n      <th>5</th>\n      <td>[Música]o programa Hoje está empetim para cheg...</td>\n      <td>mineiro</td>\n    </tr>\n  </tbody>\n</table>\n</div>"
     },
     "execution_count": 17,
     "metadata": {},
     "output_type": "execute_result"
    }
   ],
   "source": [
    "accent_df"
   ],
   "metadata": {
    "collapsed": false,
    "ExecuteTime": {
     "end_time": "2023-12-10T10:54:58.928826049Z",
     "start_time": "2023-12-10T10:54:58.885334687Z"
    }
   },
   "id": "65fa84bb2ea2c4c1"
  },
  {
   "cell_type": "code",
   "execution_count": 15,
   "outputs": [
    {
     "data": {
      "text/plain": "(6, 8886)"
     },
     "execution_count": 15,
     "metadata": {},
     "output_type": "execute_result"
    }
   ],
   "source": [
    "from sklearn.feature_extraction.text import CountVectorizer\n",
    "count_vect = CountVectorizer()\n",
    "X_train_counts = count_vect.fit_transform(accent_df['transcription'])\n",
    "X_train_counts.shape\n"
   ],
   "metadata": {
    "collapsed": false,
    "ExecuteTime": {
     "end_time": "2023-12-10T10:42:12.128019443Z",
     "start_time": "2023-12-10T10:42:11.139485575Z"
    }
   },
   "id": "69868ba32f2dcde2"
  },
  {
   "cell_type": "code",
   "execution_count": 16,
   "outputs": [
    {
     "data": {
      "text/plain": "(6, 8886)"
     },
     "execution_count": 16,
     "metadata": {},
     "output_type": "execute_result"
    }
   ],
   "source": [
    "from sklearn.feature_extraction.text import TfidfTransformer\n",
    "tfidf_transformer = TfidfTransformer()\n",
    "X_train_tfidf = tfidf_transformer.fit_transform(X_train_counts)\n",
    "X_train_tfidf.shape"
   ],
   "metadata": {
    "collapsed": false,
    "ExecuteTime": {
     "end_time": "2023-12-10T10:54:32.196154006Z",
     "start_time": "2023-12-10T10:54:32.149940762Z"
    }
   },
   "id": "b87cf7ddabe93abe"
  },
  {
   "cell_type": "code",
   "execution_count": 18,
   "outputs": [],
   "source": [
    "from sklearn.naive_bayes import MultinomialNB\n",
    "clf = MultinomialNB().fit(X_train_tfidf, accent_df['target'])"
   ],
   "metadata": {
    "collapsed": false,
    "ExecuteTime": {
     "end_time": "2023-12-10T10:55:10.087845203Z",
     "start_time": "2023-12-10T10:55:10.043651986Z"
    }
   },
   "id": "9c20a4d84784c38a"
  },
  {
   "cell_type": "code",
   "execution_count": 21,
   "outputs": [],
   "source": [
    "from sklearn.pipeline import Pipeline\n",
    "text_clf = Pipeline([\n",
    "    ('vect', CountVectorizer()),\n",
    "    ('tfidf', TfidfTransformer()),\n",
    "    ('clf', MultinomialNB()),\n",
    "])\n",
    "\n",
    "text_clf = text_clf.fit(accent_df['transcription'], accent_df['target'])\n"
   ],
   "metadata": {
    "collapsed": false,
    "ExecuteTime": {
     "end_time": "2023-12-10T10:57:42.349010332Z",
     "start_time": "2023-12-10T10:57:42.256158618Z"
    }
   },
   "id": "28050761e432d26c"
  },
  {
   "cell_type": "markdown",
   "source": [
    "# from here is example"
   ],
   "metadata": {
    "collapsed": false
   },
   "id": "ba1ae179ea531de3"
  },
  {
   "cell_type": "code",
   "execution_count": 31,
   "outputs": [
    {
     "name": "stdout",
     "output_type": "stream",
     "text": [
      "From: lerxst@wam.umd.edu (where's my thing)\n",
      "Subject: WHAT car is this!?\n",
      "Nntp-Posting-Host: rac3.wam.umd.edu\n"
     ]
    }
   ],
   "source": [
    "from sklearn.datasets import fetch_20newsgroups\n",
    "twenty_train = fetch_20newsgroups(subset='train', shuffle=True)\n",
    "type(twenty_train)\n",
    "#twenty_train.target_names #prints all the categories\n",
    "print(\"\\n\".join(twenty_train.data[0].split(\"\\n\")[:3])) #prints first line of the first data file"
   ],
   "metadata": {
    "collapsed": false,
    "ExecuteTime": {
     "end_time": "2023-12-08T18:43:23.750117643Z",
     "start_time": "2023-12-08T18:43:23.562796561Z"
    }
   },
   "id": "3282dde9ebbe6cd9"
  },
  {
   "cell_type": "code",
   "execution_count": 38,
   "outputs": [
    {
     "name": "stdout",
     "output_type": "stream",
     "text": [
      "<class 'str'>\n"
     ]
    }
   ],
   "source": [
    "print(type(twenty_train.data[0]))"
   ],
   "metadata": {
    "collapsed": false,
    "ExecuteTime": {
     "end_time": "2023-12-08T19:05:25.362204619Z",
     "start_time": "2023-12-08T19:05:25.321217245Z"
    }
   },
   "id": "259f3f7ddf803dbd"
  }
 ],
 "metadata": {
  "kernelspec": {
   "display_name": "Python 3",
   "language": "python",
   "name": "python3"
  },
  "language_info": {
   "codemirror_mode": {
    "name": "ipython",
    "version": 2
   },
   "file_extension": ".py",
   "mimetype": "text/x-python",
   "name": "python",
   "nbconvert_exporter": "python",
   "pygments_lexer": "ipython2",
   "version": "2.7.6"
  }
 },
 "nbformat": 4,
 "nbformat_minor": 5
}
